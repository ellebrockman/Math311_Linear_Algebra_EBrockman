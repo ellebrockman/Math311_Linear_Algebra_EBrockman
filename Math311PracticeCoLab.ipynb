{
  "nbformat": 4,
  "nbformat_minor": 0,
  "metadata": {
    "colab": {
      "provenance": [],
      "include_colab_link": true
    },
    "kernelspec": {
      "name": "python3",
      "display_name": "Python 3"
    }
  },
  "cells": [
    {
      "cell_type": "markdown",
      "metadata": {
        "id": "view-in-github",
        "colab_type": "text"
      },
      "source": [
        "<a href=\"https://colab.research.google.com/github/brockmanelle/Linear-Algebra/blob/main/Math311PracticeCoLab.ipynb\" target=\"_parent\"><img src=\"https://colab.research.google.com/assets/colab-badge.svg\" alt=\"Open In Colab\"/></a>"
      ]
    },
    {
      "cell_type": "markdown",
      "metadata": {
        "id": "Ry_o-kLL_-wf"
      },
      "source": [
        "# Load the preliminary code"
      ]
    },
    {
      "cell_type": "code",
      "metadata": {
        "id": "dhOLtwrRRc9S"
      },
      "source": [
        "import numpy as np\n",
        "from numpy import c_\n",
        "\n",
        "ll = \"loaded\""
      ],
      "execution_count": 1,
      "outputs": []
    },
    {
      "cell_type": "code",
      "metadata": {
        "id": "AHRXKhal_Wcj",
        "colab": {
          "base_uri": "https://localhost:8080/"
        },
        "outputId": "09719b00-25e8-4309-ef69-1b7cf7cebb92"
      },
      "source": [
        "lll = \" correctly!\"\n",
        "\n",
        "def rref(matrix):\n",
        "    A = np.array(matrix, dtype=np.float64)\n",
        "\n",
        "    r = 0 #row\n",
        "    c = 0 #column\n",
        "\n",
        "    (maxr, maxc) = A.shape\n",
        "\n",
        "    prev_row_pivot = -1   # The previous row with a leading term:\n",
        "    tmp_pivot_row = -1\n",
        "    this_pivot_row = -1\n",
        "\n",
        "    for c in range(maxc):  # go through each column\n",
        "      tmp_pivot_row = -1  # reset the tmp pivot row\n",
        "      this_pivot_row = -1  # reset this pivot row\n",
        "      for r in range(maxr):  # Find the leading term in this column below prev_row_pivot\n",
        "        if ((r > prev_row_pivot) and (A[r][c] != 0.0)):\n",
        "          tmp_pivot_row = r  # find the new pivot row\n",
        "      if (tmp_pivot_row > -1):  # we found a candidate for the leading term:\n",
        "        #swap row this_pivot_row with (prev_row_pivot + 1)\n",
        "        A[[tmp_pivot_row, prev_row_pivot+1]] = A[[prev_row_pivot + 1, tmp_pivot_row]]\n",
        "        #set this_pivot_row to prev_row_pivot+1\n",
        "        this_pivot_row = prev_row_pivot + 1\n",
        "        #Now, normalize the row based on the pivot value:\n",
        "        A[ this_pivot_row ] = A[ this_pivot_row ] / A[ this_pivot_row ][c]\n",
        "        #Then, use this row to force 0's above and below the pivot entry:\n",
        "        #subtract multiples of of the this_pivot_row row from the others\n",
        "        for r_ in range(len(A)):\n",
        "            if r_ != this_pivot_row:\n",
        "                A[r_] = A[r_] - A[this_pivot_row] * A[r_][c] / A[this_pivot_row][c]\n",
        "        prev_row_pivot = this_pivot_row\n",
        "    return A\n",
        "\n",
        "\n",
        "\n",
        "print(\">> The page \", ll, lll)"
      ],
      "execution_count": 3,
      "outputs": [
        {
          "output_type": "stream",
          "name": "stdout",
          "text": [
            ">> The page  loaded  correctly!\n"
          ]
        }
      ]
    },
    {
      "cell_type": "markdown",
      "metadata": {
        "id": "xVLAg1tp7aJX"
      },
      "source": [
        "# Solving Systems using Computation:  An Overview"
      ]
    },
    {
      "cell_type": "markdown",
      "metadata": {
        "id": "2c12Csd440sV"
      },
      "source": [
        "Suppose we wanted to solve a system like:\n",
        "\n",
        "$$\n",
        "\\left\\{ \\begin{array}{rcr} 5x + 6y + 2z & = & -1\\\\ 4x + 7y + 19 z & = & 2 \\\\ 3y + 12z & = & 1 \\\\ \\end{array} \\right.\n",
        "$$\n",
        "\n",
        "First, we create a matrix $A$ to represent the matrix on matrix on the left.  We'll also create a column matrix, or vector, to represent the numbers on the right hand side.  We'll call that vector $\\vec{b}$:"
      ]
    },
    {
      "cell_type": "code",
      "metadata": {
        "id": "uYNwPc9ISAoC"
      },
      "source": [
        "# create the matrix:\n",
        "A = np.matrix([[5, 6, 2],\n",
        "               [4, 7, 19],\n",
        "               [0, 3, 12]])\n",
        "\n",
        "# create the vector for the right hand side:\n",
        "b = np.matrix([[-1], [2], [1]])"
      ],
      "execution_count": 4,
      "outputs": []
    },
    {
      "cell_type": "markdown",
      "metadata": {
        "id": "teSTnJWS4-GS"
      },
      "source": [
        "To verify that we have entered $A$ correctly, or $\\vec{b}$ correctly, simply call\n",
        "\n",
        "```\n",
        "print(A)\n",
        "```\n",
        "\n",
        " or\n",
        "\n",
        "\n",
        "\n",
        "```\n",
        "print(b)\n",
        "```\n",
        "\n",
        "and the system will display that element:\n",
        "\n"
      ]
    },
    {
      "cell_type": "code",
      "metadata": {
        "id": "buHLWqEJ5Hds",
        "colab": {
          "base_uri": "https://localhost:8080/"
        },
        "outputId": "ef3a9e6f-31e2-4b57-871b-e95bcf686514"
      },
      "source": [
        "print(A)"
      ],
      "execution_count": 5,
      "outputs": [
        {
          "output_type": "stream",
          "name": "stdout",
          "text": [
            "[[ 5  6  2]\n",
            " [ 4  7 19]\n",
            " [ 0  3 12]]\n"
          ]
        }
      ]
    },
    {
      "cell_type": "markdown",
      "metadata": {
        "id": "EDZT8emc5iGZ"
      },
      "source": [
        "We want to solve the augmented matrix  $\\left( A \\, | \\, \\vec{b} \\right)$, so we need to create an augmented matrix.  We use:\n",
        "\n",
        "```\n",
        " np.c_(A, b)\n",
        "```\n",
        "to create the augmented matrix by putting the $\\vec{b}$ vector on the right of the $A$ matrix.  We'll save this new matrix as $M$:\n"
      ]
    },
    {
      "cell_type": "code",
      "metadata": {
        "id": "VFHQRedm5920",
        "colab": {
          "base_uri": "https://localhost:8080/"
        },
        "outputId": "50463839-42f1-447e-c8ab-a83ff46073be"
      },
      "source": [
        "M = np.c_[A,b]\n",
        "print(M)"
      ],
      "execution_count": 6,
      "outputs": [
        {
          "output_type": "stream",
          "name": "stdout",
          "text": [
            "[[ 5  6  2 -1]\n",
            " [ 4  7 19  2]\n",
            " [ 0  3 12  1]]\n"
          ]
        }
      ]
    },
    {
      "cell_type": "markdown",
      "metadata": {
        "id": "0iuR27cy86S6"
      },
      "source": [
        "Lastly, we'll use te function\n",
        "\n",
        "```\n",
        "rref(M)\n",
        "```\n",
        "\n",
        "to provide the reduced row echelon form of the matrix $M$.  Let's print out the result:\n"
      ]
    },
    {
      "cell_type": "code",
      "metadata": {
        "id": "9Qhe2zZjYAVL",
        "colab": {
          "base_uri": "https://localhost:8080/"
        },
        "outputId": "b2b92249-0722-4a46-a433-1da340484362"
      },
      "source": [
        "print(rref(M))"
      ],
      "execution_count": 7,
      "outputs": [
        {
          "output_type": "stream",
          "name": "stdout",
          "text": [
            "[[ 1.          0.          0.          0.45736434]\n",
            " [ 0.          1.          0.         -0.62790698]\n",
            " [-0.         -0.          1.          0.24031008]]\n"
          ]
        }
      ]
    },
    {
      "cell_type": "markdown",
      "metadata": {
        "id": "tL_FR5pV9MIQ"
      },
      "source": [
        "# Use Computation to check prior homework"
      ]
    },
    {
      "cell_type": "markdown",
      "metadata": {
        "id": "SLu14LMjXgAj"
      },
      "source": [
        "We'll use Google Colab to check our solutions to the six systems below, which we solved previously using row operations:\n",
        "\n",
        "$$\n",
        "(a) \\hspace{.5cm}\n",
        "\\left\\{ \\begin{array}{rcr} 2x + 2y & = & 5 \\\\ x - 4y & = & 0 \\\\ \\end{array} \\right.\n",
        "\\hspace{1cm}\n",
        "(b) \\hspace{.5cm}\n",
        "\\left\\{ \\begin{array}{rcr} -x + y &=& 1 \\\\ x + y &=& 2 \\\\ \\end{array}\n",
        "\\right.\n",
        "\\hspace{1cm}\n",
        "(c) \\hspace{.5cm}\n",
        "\\left\\{ \\begin{array}{rcr} x - 3y + z & = 1 \\\\ x + y + 2z & = & 14 \\\\ \\end{array}\n",
        "\\right.\n",
        "\\hspace{1cm}\n",
        "(d) \\hspace{.5cm}\n",
        "\\left\\{ \\begin{array}{rcr} -x - y &=& 1 \\\\ -3x -3 y &=& 2 \\\\ \\end{array}\n",
        "\\right.\n",
        "$$\n",
        "\n",
        "\n",
        "$$\n",
        "(e) \\hspace{.5cm}\n",
        "\\left\\{ \\begin{array}{rcr} 4y + z & = & 20 \\\\ 2x - 2y + z & = & 0 \\\\ x + z & = & 5 \\\\ x + y - z & = & 10 \\\\ \\end{array} \\right.\n",
        "\\hspace{1cm}\n",
        "(f) \\hspace{.5cm}\n",
        "\\left\\{ \\begin{array}{rcr} 2x + z + w & = & 5 \\\\ y - w & = & -1 \\\\ 3x - z - w & = & 0 \\\\ 4x + y + 2z + w & = & 9 \\\\ \\end{array}\n",
        "\\right.\n",
        "$$\n",
        "\n",
        "\n"
      ]
    },
    {
      "cell_type": "markdown",
      "metadata": {
        "id": "XNUulSKp9TgA"
      },
      "source": [
        "The main steps are to:\n",
        "\n",
        "1) Create the matrix $A$ and column vector $\\vec{b}$ for the system using\n",
        "\n",
        "\n",
        "\n",
        "```\n",
        "# create the matrix:\n",
        "A = np.matrix([[5, 6, 2],\n",
        "               [4, 7, 19],\n",
        "               [0, 3, 12]])\n",
        "\n",
        "# create the vector for the right hand side:\n",
        "b = np.matrix([[-1], [2], [1]])\n",
        "```\n",
        "\n",
        "\n",
        "2) Create the augmented matrix $\\left( A \\, | \\, \\vec{b} \\right)$ using\n",
        "\n",
        "\n",
        "\n",
        "```\n",
        "M = np.c_[A,b]\n",
        "```\n",
        "\n",
        "3)  Display the reduced row echelon form of $M$ using\n",
        "\n",
        "\n",
        "\n",
        "```\n",
        "print(rref(M))\n",
        "```\n",
        "\n",
        "You'll do this for each of the six systems of equations from the homework:\n"
      ]
    },
    {
      "cell_type": "markdown",
      "metadata": {
        "id": "ieV1CTIh-Lzd"
      },
      "source": [
        "$$\n",
        "(a) \\hspace{.5cm}\n",
        "\\left\\{ \\begin{array}{rcr} 2x + 2y & = & 5 \\\\ x - 4y & = & 0 \\\\ \\end{array} \\right.\n",
        "$$"
      ]
    },
    {
      "cell_type": "code",
      "metadata": {
        "id": "uEUzkFMc-NrD"
      },
      "source": [
        "# create the matrix:\n",
        "A = np.matrix([[2, 2],\n",
        "               [1, -4]])\n",
        "\n",
        "# create the vector for the right hand side:\n",
        "b = np.matrix([[5], [0]])"
      ],
      "execution_count": 15,
      "outputs": []
    },
    {
      "cell_type": "code",
      "source": [
        "M = np.c_[A,b]\n"
      ],
      "metadata": {
        "id": "VT-Oq-hDIZkI"
      },
      "execution_count": 17,
      "outputs": []
    },
    {
      "cell_type": "code",
      "source": [
        "print(M)"
      ],
      "metadata": {
        "colab": {
          "base_uri": "https://localhost:8080/"
        },
        "id": "Kcn0fjp1IcIM",
        "outputId": "f76ee493-5e23-4bf2-ae14-fcdaac699011"
      },
      "execution_count": 18,
      "outputs": [
        {
          "output_type": "stream",
          "name": "stdout",
          "text": [
            "[[ 2  2  5]\n",
            " [ 1 -4  0]]\n"
          ]
        }
      ]
    },
    {
      "cell_type": "code",
      "source": [
        "print(rref(M))"
      ],
      "metadata": {
        "colab": {
          "base_uri": "https://localhost:8080/"
        },
        "id": "EBFlytQSIecY",
        "outputId": "010abb28-1682-4fbf-b888-fe10693e809e"
      },
      "execution_count": 19,
      "outputs": [
        {
          "output_type": "stream",
          "name": "stdout",
          "text": [
            "[[1.  0.  2. ]\n",
            " [0.  1.  0.5]]\n"
          ]
        }
      ]
    },
    {
      "cell_type": "markdown",
      "metadata": {
        "id": "l_5PUxlo-OnH"
      },
      "source": [
        "$$\n",
        "(b) \\hspace{.5cm}\n",
        "\\left\\{ \\begin{array}{rcr} -x + y &=& 1 \\\\ x + y &=& 2 \\\\ \\end{array}\n",
        "\\right.\n",
        "$$"
      ]
    },
    {
      "cell_type": "code",
      "source": [
        "# create the matrix:\n",
        "A = np.matrix([[-1, 1],\n",
        "               [1, 1]])\n",
        "\n",
        "# create the vector for the right hand side:\n",
        "b = np.matrix([[1],[2]])"
      ],
      "metadata": {
        "id": "NG5Xtr2DInV6"
      },
      "execution_count": 22,
      "outputs": []
    },
    {
      "cell_type": "code",
      "metadata": {
        "id": "rgpL6ig2-QJf"
      },
      "source": [
        "M = np.c_[A,b]\n"
      ],
      "execution_count": 23,
      "outputs": []
    },
    {
      "cell_type": "code",
      "source": [
        "print(M)"
      ],
      "metadata": {
        "colab": {
          "base_uri": "https://localhost:8080/"
        },
        "id": "PZfDc8c-JBST",
        "outputId": "bc1d095d-142d-4f1f-d400-49eb99d3ade2"
      },
      "execution_count": 24,
      "outputs": [
        {
          "output_type": "stream",
          "name": "stdout",
          "text": [
            "[[-1  1  1]\n",
            " [ 1  1  2]]\n"
          ]
        }
      ]
    },
    {
      "cell_type": "code",
      "source": [
        "print(rref(M))"
      ],
      "metadata": {
        "colab": {
          "base_uri": "https://localhost:8080/"
        },
        "id": "w6XWSAVMJDSu",
        "outputId": "1625e6c5-b258-4b1f-aa12-15a0cc33ad0d"
      },
      "execution_count": 25,
      "outputs": [
        {
          "output_type": "stream",
          "name": "stdout",
          "text": [
            "[[1.  0.  0.5]\n",
            " [0.  1.  1.5]]\n"
          ]
        }
      ]
    },
    {
      "cell_type": "markdown",
      "metadata": {
        "id": "6pw-7ZxU-QuE"
      },
      "source": [
        "$$\n",
        "(c) \\hspace{.5cm}\n",
        "\\left\\{ \\begin{array}{rcr} x - 3y + z & = 1 \\\\ x + y + 2z & = & 14 \\\\ \\end{array}\n",
        "\\right.\n",
        "$$"
      ]
    },
    {
      "cell_type": "code",
      "source": [
        "# create the matrix:\n",
        "A = np.matrix([[1, -3, 1],\n",
        "               [1, 1, 2]])\n",
        "\n",
        "# create the vector for the right hand side:\n",
        "b = np.matrix([[1], [14]])"
      ],
      "metadata": {
        "id": "xctUaDemJKkj"
      },
      "execution_count": 26,
      "outputs": []
    },
    {
      "cell_type": "code",
      "metadata": {
        "id": "4Fm9M0Pg-S_F"
      },
      "source": [
        "M = np.c_[A,b]"
      ],
      "execution_count": 27,
      "outputs": []
    },
    {
      "cell_type": "code",
      "source": [
        "print(M)"
      ],
      "metadata": {
        "colab": {
          "base_uri": "https://localhost:8080/"
        },
        "id": "z4dH2vrjJXPf",
        "outputId": "7d570c46-9c5f-4cfb-9d7a-a92d38bcccd9"
      },
      "execution_count": 28,
      "outputs": [
        {
          "output_type": "stream",
          "name": "stdout",
          "text": [
            "[[ 1 -3  1  1]\n",
            " [ 1  1  2 14]]\n"
          ]
        }
      ]
    },
    {
      "cell_type": "code",
      "source": [
        "print(rref(M))"
      ],
      "metadata": {
        "colab": {
          "base_uri": "https://localhost:8080/"
        },
        "id": "o04YU0rIJYrL",
        "outputId": "9bbcd0f6-e1c4-4a6d-d91b-702a0974ad9f"
      },
      "execution_count": 29,
      "outputs": [
        {
          "output_type": "stream",
          "name": "stdout",
          "text": [
            "[[ 1.    0.    1.75 10.75]\n",
            " [-0.    1.    0.25  3.25]]\n"
          ]
        }
      ]
    },
    {
      "cell_type": "markdown",
      "metadata": {
        "id": "KiRFFlCt-Tr2"
      },
      "source": [
        "$$\n",
        "(d) \\hspace{.5cm}\n",
        "\\left\\{ \\begin{array}{rcr} -x - y &=& 1 \\\\ -3x -3 y &=& 2 \\\\ \\end{array}\n",
        "\\right.\n",
        "$$"
      ]
    },
    {
      "cell_type": "code",
      "source": [
        "# create the matrix:\n",
        "A = np.matrix([[-1, -1],\n",
        "               [-3, -3]])\n",
        "\n",
        "# create the vector for the right hand side:\n",
        "b = np.matrix([[1], [2]])"
      ],
      "metadata": {
        "id": "qYuEiXL8JfO9"
      },
      "execution_count": 30,
      "outputs": []
    },
    {
      "cell_type": "code",
      "metadata": {
        "id": "aoJNak7k-VlQ"
      },
      "source": [
        "M = np.c_[A,b]"
      ],
      "execution_count": 31,
      "outputs": []
    },
    {
      "cell_type": "code",
      "source": [
        "print(M)"
      ],
      "metadata": {
        "colab": {
          "base_uri": "https://localhost:8080/"
        },
        "id": "WWQAr6bPJpP0",
        "outputId": "70fb7198-af9a-47d2-a324-fc8e987bf173"
      },
      "execution_count": 32,
      "outputs": [
        {
          "output_type": "stream",
          "name": "stdout",
          "text": [
            "[[-1 -1  1]\n",
            " [-3 -3  2]]\n"
          ]
        }
      ]
    },
    {
      "cell_type": "code",
      "source": [
        "print(rref(M))"
      ],
      "metadata": {
        "colab": {
          "base_uri": "https://localhost:8080/"
        },
        "id": "0wOkYGOUJqoo",
        "outputId": "b481c255-bf00-4895-b75c-79fac247d7e1"
      },
      "execution_count": 34,
      "outputs": [
        {
          "output_type": "stream",
          "name": "stdout",
          "text": [
            "[[1. 1. 0.]\n",
            " [0. 0. 1.]]\n"
          ]
        }
      ]
    },
    {
      "cell_type": "markdown",
      "metadata": {
        "id": "wyc1fCaY-WFu"
      },
      "source": [
        "$$\n",
        "(e) \\hspace{.5cm}\n",
        "\\left\\{ \\begin{array}{rcr} 4y + z & = & 20 \\\\ 2x - 2y + z & = & 0 \\\\ x + z & = & 5 \\\\ x + y - z & = & 10 \\\\ \\end{array} \\right.\n",
        "$$"
      ]
    },
    {
      "cell_type": "code",
      "source": [
        "# create the matrix:\n",
        "A = np.matrix([[0, 4, 5],\n",
        "               [2, -2, 1],\n",
        "               [1, 0, 1],\n",
        "               [1, 1, -1]])\n",
        "\n",
        "# create the vector for the right hand side:\n",
        "b = np.matrix([[20], [0], [5], [10]])"
      ],
      "metadata": {
        "id": "RGyEL9VwJwu_"
      },
      "execution_count": 36,
      "outputs": []
    },
    {
      "cell_type": "code",
      "metadata": {
        "id": "98NNaKMX-Xiq"
      },
      "source": [
        "M = np.c_[A,b]"
      ],
      "execution_count": 37,
      "outputs": []
    },
    {
      "cell_type": "code",
      "source": [
        "print(M)"
      ],
      "metadata": {
        "colab": {
          "base_uri": "https://localhost:8080/"
        },
        "id": "A3Oggwy4KHWG",
        "outputId": "d2cac944-088d-4b6b-9197-148b289f37e1"
      },
      "execution_count": 38,
      "outputs": [
        {
          "output_type": "stream",
          "name": "stdout",
          "text": [
            "[[ 0  4  5 20]\n",
            " [ 2 -2  1  0]\n",
            " [ 1  0  1  5]\n",
            " [ 1  1 -1 10]]\n"
          ]
        }
      ]
    },
    {
      "cell_type": "code",
      "source": [
        "print(rref(M))"
      ],
      "metadata": {
        "colab": {
          "base_uri": "https://localhost:8080/"
        },
        "id": "iViXVf5FKHPm",
        "outputId": "8660cd99-409f-46fa-9e48-a1189312e9cc"
      },
      "execution_count": 39,
      "outputs": [
        {
          "output_type": "stream",
          "name": "stdout",
          "text": [
            "[[1. 0. 0. 5.]\n",
            " [0. 1. 0. 5.]\n",
            " [0. 0. 1. 0.]\n",
            " [0. 0. 0. 0.]]\n"
          ]
        }
      ]
    },
    {
      "cell_type": "markdown",
      "metadata": {
        "id": "22QYFvJX-a6O"
      },
      "source": [
        "$$\n",
        "(f) \\hspace{.5cm}\n",
        "\\left\\{ \\begin{array}{rcr} 2x + z + w & = & 5 \\\\ y - w & = & -1 \\\\ 3x - z - w & = & 0 \\\\ 4x + y + 2z + w & = & 9 \\\\ \\end{array}\n",
        "\\right.\n",
        "$$"
      ]
    },
    {
      "cell_type": "code",
      "metadata": {
        "id": "r3WB6JRn-b5W"
      },
      "source": [
        "# create the matrix:\n",
        "A = np.matrix([[2, 0, 1, 1],\n",
        "               [0, 1, 0, -1],\n",
        "               [3, 0, -1, -1],\n",
        "               [4, 1, 2, 1]])\n",
        "\n",
        "# create the vector for the right hand side:\n",
        "b = np.matrix([[5], [-1], [0], [9]])"
      ],
      "execution_count": 40,
      "outputs": []
    },
    {
      "cell_type": "code",
      "metadata": {
        "id": "769dXoztlBcx"
      },
      "source": [
        "M = np.c_[A,b]"
      ],
      "execution_count": 41,
      "outputs": []
    },
    {
      "cell_type": "code",
      "source": [
        "print(M)"
      ],
      "metadata": {
        "colab": {
          "base_uri": "https://localhost:8080/"
        },
        "id": "LKbcVWrbKhGj",
        "outputId": "ac29394a-453a-4d79-ac0b-9ce379d3addf"
      },
      "execution_count": 42,
      "outputs": [
        {
          "output_type": "stream",
          "name": "stdout",
          "text": [
            "[[ 2  0  1  1  5]\n",
            " [ 0  1  0 -1 -1]\n",
            " [ 3  0 -1 -1  0]\n",
            " [ 4  1  2  1  9]]\n"
          ]
        }
      ]
    },
    {
      "cell_type": "code",
      "source": [
        "print(rref(M))"
      ],
      "metadata": {
        "colab": {
          "base_uri": "https://localhost:8080/"
        },
        "id": "S628WnBMKh-G",
        "outputId": "b1cea128-1f1c-4fce-c447-21d596bb021e"
      },
      "execution_count": 43,
      "outputs": [
        {
          "output_type": "stream",
          "name": "stdout",
          "text": [
            "[[ 1.  0.  0.  0.  1.]\n",
            " [-0.  1.  0. -1. -1.]\n",
            " [-0. -0.  1.  1.  3.]\n",
            " [ 0.  0.  0.  0.  0.]]\n"
          ]
        }
      ]
    },
    {
      "cell_type": "code",
      "source": [],
      "metadata": {
        "id": "g2BQA4Q_Kjp9"
      },
      "execution_count": null,
      "outputs": []
    }
  ]
}